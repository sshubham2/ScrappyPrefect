{
 "cells": [
  {
   "cell_type": "code",
   "execution_count": 24,
   "id": "83eb3708-06aa-4789-80ad-c5e63b1663cc",
   "metadata": {},
   "outputs": [],
   "source": [
    "import time\n",
    "from selenium import webdriver\n",
    "from selenium.webdriver.common.keys import Keys\n",
    "from webdriver_manager.chrome import ChromeDriverManager\n",
    "from selenium.webdriver.common.by import By"
   ]
  },
  {
   "cell_type": "code",
   "execution_count": 25,
   "id": "6f545f30-97f9-469f-9e4b-77d016694390",
   "metadata": {},
   "outputs": [
    {
     "name": "stderr",
     "output_type": "stream",
     "text": [
      "C:\\Users\\91878\\AppData\\Local\\Temp\\ipykernel_27288\\1235066081.py:1: DeprecationWarning: executable_path has been deprecated, please pass in a Service object\n",
      "  driver  = webdriver.Chrome(ChromeDriverManager().install())\n"
     ]
    }
   ],
   "source": [
    "driver  = webdriver.Chrome(ChromeDriverManager().install())"
   ]
  },
  {
   "cell_type": "code",
   "execution_count": 26,
   "id": "ea2c4052-cc0c-492d-9ea4-02f057f285d8",
   "metadata": {},
   "outputs": [],
   "source": [
    "## driver.get(\"https://www.zomato.com/mumbai/powai-restaurants\")\n",
    "driver.get(\"https://www.swiggy.com/city/mumbai/powai-restaurants\")\n",
    "time.sleep(1)"
   ]
  },
  {
   "cell_type": "code",
   "execution_count": 27,
   "id": "b52ae26c-1587-4730-9baf-1deb676de250",
   "metadata": {},
   "outputs": [],
   "source": [
    "elem = driver.find_element(By.XPATH, \"//body\")"
   ]
  },
  {
   "cell_type": "code",
   "execution_count": 28,
   "id": "4b178147-4bca-4b69-b1c7-366641c249fa",
   "metadata": {},
   "outputs": [],
   "source": [
    "no_of_page_down = 300\n",
    "while no_of_page_down:\n",
    "    elem.send_keys(Keys.PAGE_DOWN)\n",
    "    time.sleep(0.2)\n",
    "    no_of_page_down-=1"
   ]
  },
  {
   "cell_type": "code",
   "execution_count": 29,
   "id": "27c08f6a-86bf-4231-9d89-1748a453f2cb",
   "metadata": {},
   "outputs": [],
   "source": [
    "pageSource = driver.execute_script(\"return document.body.innerHTML\")\n",
    "driver.close()"
   ]
  },
  {
   "cell_type": "code",
   "execution_count": 10,
   "id": "9f9e58d7-5c36-4c3c-b0b9-489b96e8c405",
   "metadata": {},
   "outputs": [],
   "source": [
    "file = open(\"Zomato_Mumbai_Page_Source.html\",\"w\", encoding='utf-8')\n",
    "file.write(pageSource)\n",
    "file.close()"
   ]
  }
 ],
 "metadata": {
  "kernelspec": {
   "display_name": "Python 3.8.13 ('scrapy')",
   "language": "python",
   "name": "python3"
  },
  "language_info": {
   "codemirror_mode": {
    "name": "ipython",
    "version": 3
   },
   "file_extension": ".py",
   "mimetype": "text/x-python",
   "name": "python",
   "nbconvert_exporter": "python",
   "pygments_lexer": "ipython3",
   "version": "3.8.13"
  },
  "vscode": {
   "interpreter": {
    "hash": "b6e52b7bbc78044540c51b1fc68354d36b09b52dd2b0199c17fa5787c56e25d6"
   }
  }
 },
 "nbformat": 4,
 "nbformat_minor": 5
}
